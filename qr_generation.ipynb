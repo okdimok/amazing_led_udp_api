{
 "metadata": {
  "language_info": {
   "codemirror_mode": {
    "name": "ipython",
    "version": 3
   },
   "file_extension": ".py",
   "mimetype": "text/x-python",
   "name": "python",
   "nbconvert_exporter": "python",
   "pygments_lexer": "ipython3",
   "version": "3.9.1-final"
  },
  "orig_nbformat": 2,
  "kernelspec": {
   "name": "python3",
   "display_name": "Python 3.9.1 64-bit",
   "metadata": {
    "interpreter": {
     "hash": "a8d442f6dd62b609d6bd95fbce93bba865aab1059e13b46fe6c1425095fb225a"
    }
   }
  }
 },
 "nbformat": 4,
 "nbformat_minor": 2,
 "cells": [
  {
   "cell_type": "code",
   "execution_count": 1,
   "metadata": {},
   "outputs": [],
   "source": [
    "import qrcode\n",
    "from PIL import Image, ImageOps\n",
    "import re\n"
   ]
  },
  {
   "cell_type": "code",
   "execution_count": 29,
   "metadata": {},
   "outputs": [
    {
     "output_type": "stream",
     "name": "stdout",
     "text": [
      "(62, 62)\n(64, 64)\n"
     ]
    }
   ],
   "source": [
    "text = \"Scan again!\"\n",
    "qr = qrcode.QRCode(\n",
    "    version=2,\n",
    "    error_correction=qrcode.constants.ERROR_CORRECT_M, # L is for lowest, LMQH\n",
    "    box_size=2,\n",
    "    border=3,\n",
    ")\n",
    "# data = qrcode.util.QRData(text.encode(\"utf-8\"), mode=qrcode.util.MODE_8BIT_BYTE)\n",
    "data = text\n",
    "qr.add_data(data)\n",
    "qr.make(fit=True)\n",
    "\n",
    "img = qr.make_image(fill_color=\"black\", back_color=\"white\")\n",
    "pimg = img.get_image()\n",
    "pimg = ImageOps.expand(pimg, (0,0,64 - pimg.width, 64 - pimg.height), fill=1)\n",
    "print(img.size)\n",
    "print(pimg.size)\n",
    "filename = \"fun_images/qr_\"\n",
    "txt = re.sub('[^\\w\\-_\\. ]', '', text)\n",
    "filename += re.sub(' ', '_', txt)\n",
    "filename += \".png\"\n",
    "pimg.save(filename)"
   ]
  },
  {
   "cell_type": "code",
   "execution_count": 21,
   "metadata": {},
   "outputs": [
    {
     "output_type": "execute_result",
     "data": {
      "text/plain": [
       "<PIL.Image.Image image mode=1 size=64x64 at 0x2AC9BA10D30>"
      ],
      "image/png": "[encoded data removed]"
     },
     "metadata": {},
     "execution_count": 21
    }
   ],
   "source": [
    "pimg"
   ]
  },
  {
   "cell_type": "code",
   "execution_count": 118,
   "metadata": {},
   "outputs": [],
   "source": [
    "qr = qrcode.QRCode(\n",
    "    version=10,\n",
    "    error_correction=qrcode.constants.ERROR_CORRECT_L,\n",
    "    box_size=1,\n",
    "    border=3,\n",
    ")\n",
    "\n",
    "qr.add_data('Scan again!')\n",
    "qr.make(fit=True)\n",
    "\n",
    "# img = qr.make_image(fill_color=\"white\", back_color=\"black\")\n",
    "img = qr.make_image(fill_color=\"black\", back_color=\"white\")"
   ]
  },
  {
   "cell_type": "code",
   "execution_count": 106,
   "metadata": {},
   "outputs": [
    {
     "output_type": "stream",
     "name": "stdout",
     "text": [
      "<class 'qrcode.image.pil.PilImage'>\n(62, 62)\n<class 'PIL.Image.Image'>\n"
     ]
    }
   ],
   "source": [
    "print(type(img))\n",
    "print(img.size)\n",
    "pimg = img.get_image()\n",
    "print(type(pimg))"
   ]
  },
  {
   "cell_type": "code",
   "execution_count": 102,
   "metadata": {},
   "outputs": [],
   "source": [
    "pimg = ImageOps.expand(pimg, (0,0,64 - pimg.width, 64 - pimg.height), fill=1)"
   ]
  },
  {
   "cell_type": "code",
   "execution_count": 103,
   "metadata": {},
   "outputs": [
    {
     "output_type": "execute_result",
     "data": {
      "text/plain": [
       "<PIL.Image.Image image mode=1 size=64x64 at 0x1945C0915E0>"
      ],
      "image/png": "[encoded data removed]"
     },
     "metadata": {},
     "execution_count": 103
    }
   ],
   "source": [
    "pimg"
   ]
  },
  {
   "cell_type": "code",
   "execution_count": 104,
   "metadata": {},
   "outputs": [],
   "source": [
    "pimg.save(\"fun_images/qr-code-scan-again-v10.png\")"
   ]
  },
  {
   "cell_type": "code",
   "execution_count": 37,
   "metadata": {},
   "outputs": [
    {
     "output_type": "stream",
     "text": [
      "\u001b[1;31mSignature:\u001b[0m \u001b[0mImageOps\u001b[0m\u001b[1;33m.\u001b[0m\u001b[0mexpand\u001b[0m\u001b[1;33m(\u001b[0m\u001b[0mimage\u001b[0m\u001b[1;33m,\u001b[0m \u001b[0mborder\u001b[0m\u001b[1;33m=\u001b[0m\u001b[1;36m0\u001b[0m\u001b[1;33m,\u001b[0m \u001b[0mfill\u001b[0m\u001b[1;33m=\u001b[0m\u001b[1;36m0\u001b[0m\u001b[1;33m)\u001b[0m\u001b[1;33m\u001b[0m\u001b[1;33m\u001b[0m\u001b[0m\n",
      "\u001b[1;31mDocstring:\u001b[0m\n",
      "Add border to the image\n",
      "\n",
      ":param image: The image to expand.\n",
      ":param border: Border width, in pixels.\n",
      ":param fill: Pixel fill value (a color value).  Default is 0 (black).\n",
      ":return: An image.\n",
      "\u001b[1;31mFile:\u001b[0m      c:\\users\\dmitrym\\appdata\\local\\programs\\python\\python39\\lib\\site-packages\\pil\\imageops.py\n",
      "\u001b[1;31mType:\u001b[0m      function\n"
     ],
     "name": "stdout"
    }
   ],
   "source": [
    "ImageOps.expand?"
   ]
  },
  {
   "cell_type": "code",
   "execution_count": 10,
   "metadata": {},
   "outputs": [
    {
     "output_type": "execute_result",
     "data": {
      "text/plain": [
       "'C:\\\\Users\\\\dmitrym\\\\AppData\\\\Local\\\\Programs\\\\Python\\\\Python39\\\\lib\\\\site-packages\\\\qrcode\\\\__init__.py'"
      ]
     },
     "metadata": {},
     "execution_count": 10
    }
   ],
   "source": [
    "qrcode.__file__"
   ]
  },
  {
   "cell_type": "code",
   "execution_count": 14,
   "metadata": {},
   "outputs": [],
   "source": [
    "data = qrcode.util.QRData(\"бу\", mode=qrcode.util.MODE_8BIT_BYTE)"
   ]
  },
  {
   "cell_type": "code",
   "execution_count": 15,
   "metadata": {},
   "outputs": [
    {
     "output_type": "execute_result",
     "data": {
      "text/plain": [
       "b'\\xd0\\xb1\\xd1\\x83'"
      ]
     },
     "metadata": {},
     "execution_count": 15
    }
   ],
   "source": [
    "data"
   ]
  },
  {
   "cell_type": "code",
   "execution_count": 11,
   "metadata": {},
   "outputs": [
    {
     "output_type": "execute_result",
     "data": {
      "text/plain": [
       "'бу'"
      ]
     },
     "metadata": {},
     "execution_count": 11
    }
   ],
   "source": [
    "data.data.decode(\"utf-8\")"
   ]
  },
  {
   "cell_type": "code",
   "execution_count": 6,
   "metadata": {},
   "outputs": [],
   "source": [
    "buffer = qrcode.util.BitBuffer()"
   ]
  },
  {
   "cell_type": "code",
   "execution_count": 7,
   "metadata": {},
   "outputs": [],
   "source": [
    "data.write(buffer)"
   ]
  },
  {
   "cell_type": "code",
   "execution_count": 8,
   "metadata": {},
   "outputs": [
    {
     "output_type": "execute_result",
     "data": {
      "text/plain": [
       "208.177.209.131"
      ]
     },
     "metadata": {},
     "execution_count": 8
    }
   ],
   "source": [
    "buffer"
   ]
  },
  {
   "cell_type": "code",
   "execution_count": 13,
   "metadata": {},
   "outputs": [
    {
     "output_type": "execute_result",
     "data": {
      "text/plain": [
       "b''"
      ]
     },
     "metadata": {},
     "execution_count": 13
    }
   ],
   "source": [
    "\"\".encode(\"utf-8\")"
   ]
  },
  {
   "cell_type": "code",
   "execution_count": null,
   "metadata": {},
   "outputs": [],
   "source": []
  }
 ]
}