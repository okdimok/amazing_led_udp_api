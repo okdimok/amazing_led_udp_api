{
 "metadata": {
  "language_info": {
   "codemirror_mode": {
    "name": "ipython",
    "version": 3
   },
   "file_extension": ".py",
   "mimetype": "text/x-python",
   "name": "python",
   "nbconvert_exporter": "python",
   "pygments_lexer": "ipython3",
   "version": "3.9.1-final"
  },
  "orig_nbformat": 2,
  "kernelspec": {
   "name": "python3",
   "display_name": "Python 3.9.1 64-bit",
   "metadata": {
    "interpreter": {
     "hash": "a8d442f6dd62b609d6bd95fbce93bba865aab1059e13b46fe6c1425095fb225a"
    }
   }
  }
 },
 "nbformat": 4,
 "nbformat_minor": 2,
 "cells": [
  {
   "cell_type": "code",
   "execution_count": 3,
   "metadata": {},
   "outputs": [],
   "source": [
    "import glob\n",
    "import subprocess\n",
    "import shlex\n",
    "from collections import namedtuple"
   ]
  },
  {
   "cell_type": "code",
   "execution_count": 4,
   "metadata": {},
   "outputs": [],
   "source": [
    "UNKNOWN = -1\n",
    "class FrameMeta:\n",
    "    def __init__(self, frame_no=-1, delay=-1, height=-1, width=-1):\n",
    "        self.frame_no = frame_no\n",
    "        self.delay = delay\n",
    "        self.height = height\n",
    "        self.width = width\n",
    "    \n",
    "    def __repr__(self):\n",
    "        return f\"#{self.frame_no} -d {self.delay}s hxw {self.height}x{self.width}\"\n",
    "\n",
    "\n",
    "\n",
    "def run_linux_cmd(cmd):\n",
    "    # print (cmd)\n",
    "    full_cmd = \"bash.exe -c '\"+ cmd +\"'\"\n",
    "    process = subprocess.Popen(shlex.split(full_cmd), stdout=subprocess.PIPE, stderr=subprocess.PIPE, shell=True)\n",
    "    out, err = process.communicate()\n",
    "    out = out.decode(\"utf-8\")\n",
    "    err = err.decode(\"utf-8\")\n",
    "    return out, err\n",
    "\n",
    "def get_frames_meta(filename):\n",
    "    out, err = run_linux_cmd(f\"gifsicle -I \\\"{filename}\\\"\")\n",
    "    meta = []\n",
    "    imgline = False\n",
    "    for line in out.splitlines():\n",
    "        line = line.strip()\n",
    "        if line.startswith(\"+\"):\n",
    "            tokens = line.split(' ')\n",
    "            m = FrameMeta()\n",
    "            m.frame_no = int(tokens[2][1:])\n",
    "            hxw = tokens[3].split(\"x\")\n",
    "            m.height=int(hxw[0])\n",
    "            m.width=int(hxw[1])\n",
    "            meta.append(m)\n",
    "            imgline = True\n",
    "        else:\n",
    "            if imgline:\n",
    "                tokens = line.split(' ')\n",
    "                delay_t = tokens.index(\"delay\")\n",
    "                meta[-1].delay = float(tokens[delay_t + 1][:-1])\n",
    "            imgline = False\n",
    "    return meta\n",
    "\n",
    "def combine_durations(meta, min_duration):\n",
    "    new_meta = []\n",
    "    current_duration = float(\"+inf\")\n",
    "    for m in meta:\n",
    "        if current_duration < min_duration:\n",
    "            current_duration += m.delay\n",
    "        else:\n",
    "            if len(new_meta):\n",
    "                new_meta[-1].delay = current_duration\n",
    "            new_meta.append(m)\n",
    "            current_duration = m.delay\n",
    "    return new_meta\n",
    "\n",
    "def build_durations_request(new_meta):\n",
    "    return \" \".join(f'\"#{m.frame_no}\" -d {int(m.delay * 100)}' for m in new_meta)\n",
    "\n",
    "def get_resize_cmd(meta, target_size=64):\n",
    "    if len(meta):\n",
    "        m = meta[0]\n",
    "        if m.height == -1 or m.width == -1:\n",
    "            return \"\"\n",
    "        if m.height > target_size or m.width > target_size:\n",
    "            return f\"--resize-fit {target_size}x{target_size}\"\n",
    "    return \"\"\n",
    "\n",
    "        \n"
   ]
  },
  {
   "cell_type": "code",
   "execution_count": 5,
   "metadata": {},
   "outputs": [
    {
     "output_type": "stream",
     "name": "stdout",
     "text": [
      "./fun_images/1.gif\n",
      "./fun_images/10.gif\n",
      "./fun_images/12.gif\n",
      "./fun_images/13.gif\n",
      "./fun_images/14.gif\n",
      "./fun_images/15.gif\n",
      "Unable to convert ./fun_images/giphy_sources/15.gif, copying: 'delay' is not in list\n",
      "./fun_images/16.gif\n",
      "./fun_images/17.gif\n",
      "./fun_images/2.gif\n",
      "./fun_images/3.gif\n",
      "./fun_images/4.gif\n",
      "./fun_images/5.gif\n",
      "./fun_images/6.gif\n",
      "./fun_images/7.gif\n",
      "./fun_images/8.gif\n",
      "./fun_images/9.gif\n",
      "./fun_images/central.gif\n",
      "./fun_images/hexagons.gif\n",
      "./fun_images/mondrian.gif\n",
      "./fun_images/spiral.gif\n",
      "./fun_images/spiral2.gif\n",
      "./fun_images/squares.gif\n",
      "./fun_images/squares2.gif\n"
     ]
    }
   ],
   "source": [
    "for f in glob.glob(\"./fun_images/giphy_sources/*.gif\"):\n",
    "    f = f.replace(\"\\\\\", \"/\")\n",
    "    new_filename = f.split(\"/\")\n",
    "    new_filename.remove(\"giphy_sources\")\n",
    "    new_filename = \"/\".join(new_filename)\n",
    "    print(new_filename)\n",
    "    try:\n",
    "        meta = get_frames_meta(f)\n",
    "        # print(meta)\n",
    "        # break\n",
    "        new_meta = combine_durations(meta, 1/15)\n",
    "        durations_request = build_durations_request(new_meta)\n",
    "        resize_cmd = get_resize_cmd(new_meta)\n",
    "        cmd = f\"gifsicle -U \\\"{f}\\\" {durations_request} {resize_cmd} -o \\\"{new_filename}\\\"\"\n",
    "        run_linux_cmd(cmd)\n",
    "    except Exception as e:\n",
    "        print(f\"Unable to convert {f}, copying: {e}\")\n",
    "        cmd = f\"cp \\\"{f}\\\" \\\"{new_filename}\\\"\"\n",
    "        run_linux_cmd(cmd)\n",
    "    \n"
   ]
  },
  {
   "cell_type": "code",
   "execution_count": 6,
   "metadata": {},
   "outputs": [
    {
     "output_type": "stream",
     "name": "stdout",
     "text": [
      "total 3.3M\n-rwxrwxrwx 1 dmitrym dmitrym  40K Apr  6 14:05 1.gif\n-rwxrwxrwx 1 dmitrym dmitrym  22K Apr  6 14:05 10.gif\n-rwxrwxrwx 1 dmitrym dmitrym  31K Apr  6 14:05 12.gif\n-rwxrwxrwx 1 dmitrym dmitrym  23K Apr  6 14:05 13.gif\n-rwxrwxrwx 1 dmitrym dmitrym  28K Apr  6 14:05 14.gif\n-rwxrwxrwx 1 dmitrym dmitrym 1.9M Apr  6 14:05 15.gif\n-rwxrwxrwx 1 dmitrym dmitrym  27K Apr  6 14:05 16.gif\n-rwxrwxrwx 1 dmitrym dmitrym  51K Apr  6 14:05 17.gif\n-rwxrwxrwx 1 dmitrym dmitrym  41K Apr  6 14:05 2.gif\n-rwxrwxrwx 1 dmitrym dmitrym  28K Apr  6 14:05 3.gif\n-rwxrwxrwx 1 dmitrym dmitrym  18K Apr  6 14:05 4.gif\n-rwxrwxrwx 1 dmitrym dmitrym 202K Apr  6 14:05 5.gif\n-rwxrwxrwx 1 dmitrym dmitrym  53K Apr  6 14:05 6.gif\n-rwxrwxrwx 1 dmitrym dmitrym 2.6K Apr  6 14:05 7.gif\n-rwxrwxrwx 1 dmitrym dmitrym 7.2K Apr  6 14:05 8.gif\n-rwxrwxrwx 1 dmitrym dmitrym  52K Apr  6 14:05 9.gif\n-rwxrwxrwx 1 dmitrym dmitrym 101K Apr  6 14:05 central.gif\n-rwxrwxrwx 1 dmitrym dmitrym  59K Apr  6 14:05 hexagons.gif\n-rwxrwxrwx 1 dmitrym dmitrym  42K Apr  6 14:05 mondrian.gif\n-rwxrwxrwx 1 dmitrym dmitrym  262 Apr  4 11:08 qr_Scan_again.png\n-rwxrwxrwx 1 dmitrym dmitrym  260 Apr  4 11:08 qr_httpst.meokdimok.png\n-rwxrwxrwx 1 dmitrym dmitrym 120K Apr  6 14:05 spiral.gif\n-rwxrwxrwx 1 dmitrym dmitrym  94K Apr  6 14:05 spiral2.gif\n-rwxrwxrwx 1 dmitrym dmitrym 360K Apr  6 14:05 squares.gif\n-rwxrwxrwx 1 dmitrym dmitrym  32K Apr  6 14:05 squares2.gif\n\n"
     ]
    }
   ],
   "source": [
    "target_dir = \"${HOME}/win_home/YandexDisk/backpack/\"\n",
    "cmd = f\"cp ./fun_images/*.gif {target_dir}\"\n",
    "run_linux_cmd(cmd)\n",
    "out, err = run_linux_cmd(f\"ls -lh {target_dir}\")\n",
    "print(out)"
   ]
  },
  {
   "cell_type": "code",
   "execution_count": 66,
   "metadata": {},
   "outputs": [],
   "source": [
    "line = \"adv  \""
   ]
  },
  {
   "cell_type": "code",
   "execution_count": 99,
   "metadata": {},
   "outputs": [],
   "source": [
    "a = [1, 2 ,3]"
   ]
  },
  {
   "cell_type": "code",
   "execution_count": 85,
   "metadata": {},
   "outputs": [
    {
     "output_type": "execute_result",
     "data": {
      "text/plain": [
       "0"
      ]
     },
     "metadata": {},
     "execution_count": 85
    }
   ],
   "source": [
    "a.index(1)"
   ]
  },
  {
   "cell_type": "code",
   "execution_count": 100,
   "metadata": {},
   "outputs": [
    {
     "output_type": "stream",
     "text": [
      "\u001b[1;31mSignature:\u001b[0m \u001b[0ma\u001b[0m\u001b[1;33m.\u001b[0m\u001b[0mremove\u001b[0m\u001b[1;33m(\u001b[0m\u001b[0mvalue\u001b[0m\u001b[1;33m,\u001b[0m \u001b[1;33m/\u001b[0m\u001b[1;33m)\u001b[0m\u001b[1;33m\u001b[0m\u001b[1;33m\u001b[0m\u001b[0m\n",
      "\u001b[1;31mDocstring:\u001b[0m\n",
      "Remove first occurrence of value.\n",
      "\n",
      "Raises ValueError if the value is not present.\n",
      "\u001b[1;31mType:\u001b[0m      builtin_function_or_method\n"
     ],
     "name": "stdout"
    }
   ],
   "source": [
    "a.`"
   ]
  },
  {
   "cell_type": "code",
   "execution_count": 107,
   "metadata": {},
   "outputs": [],
   "source": [
    "f.split(\"/\").remove(\"giphy_sources\")"
   ]
  },
  {
   "cell_type": "code",
   "execution_count": null,
   "metadata": {},
   "outputs": [],
   "source": []
  }
 ]
}